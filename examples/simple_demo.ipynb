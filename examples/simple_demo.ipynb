{
 "cells": [
  {
   "cell_type": "markdown",
   "metadata": {},
   "source": [
    "# AlteruPhono Simple Demo\n",
    "\n",
    "A basic demonstration of AlteruPhono functionality."
   ]
  },
  {
   "cell_type": "code",
   "execution_count": 1,
   "metadata": {
    "execution": {
     "iopub.execute_input": "2025-07-14T07:34:29.176542Z",
     "iopub.status.busy": "2025-07-14T07:34:29.176222Z",
     "iopub.status.idle": "2025-07-14T07:34:29.248551Z",
     "shell.execute_reply": "2025-07-14T07:34:29.247324Z"
    }
   },
   "outputs": [
    {
     "name": "stdout",
     "output_type": "stream",
     "text": [
      "Loaded Tresoldi feature system: 1081 sounds, 43 features\n",
      "AlteruPhono version: 0.8.0\n",
      "AlteruPhono loaded successfully!\n"
     ]
    }
   ],
   "source": [
    "# Import AlteruPhono\n",
    "import alteruphono\n",
    "print(f\"AlteruPhono version: {alteruphono.__version__}\")\n",
    "print(\"AlteruPhono loaded successfully!\")"
   ]
  },
  {
   "cell_type": "code",
   "execution_count": 2,
   "metadata": {
    "execution": {
     "iopub.execute_input": "2025-07-14T07:34:29.320128Z",
     "iopub.status.busy": "2025-07-14T07:34:29.318801Z",
     "iopub.status.idle": "2025-07-14T07:34:29.326716Z",
     "shell.execute_reply": "2025-07-14T07:34:29.325611Z"
    }
   },
   "outputs": [
    {
     "name": "stdout",
     "output_type": "stream",
     "text": [
      "Available feature systems:\n",
      "  - ipa_categorical\n",
      "  - unified_distinctive\n",
      "  - tresoldi_distinctive\n"
     ]
    }
   ],
   "source": [
    "# Test basic functionality\n",
    "from alteruphono.phonology.feature_systems import list_feature_systems, get_feature_system\n",
    "\n",
    "print(\"Available feature systems:\")\n",
    "systems = list_feature_systems()\n",
    "for system in systems:\n",
    "    print(f\"  - {system}\")"
   ]
  },
  {
   "cell_type": "code",
   "execution_count": 3,
   "metadata": {
    "execution": {
     "iopub.execute_input": "2025-07-14T07:34:29.331040Z",
     "iopub.status.busy": "2025-07-14T07:34:29.330012Z",
     "iopub.status.idle": "2025-07-14T07:34:29.344701Z",
     "shell.execute_reply": "2025-07-14T07:34:29.342735Z"
    }
   },
   "outputs": [
    {
     "name": "stdout",
     "output_type": "stream",
     "text": [
      "Testing sound creation:\n",
      "  p: voice = -1.0\n",
      "  b: voice = 1.0\n",
      "  t: voice = -1.0\n",
      "  d: voice = 1.0\n",
      "  k: voice = -1.0\n",
      "  g: voice = 1.0\n"
     ]
    }
   ],
   "source": [
    "# Test sound creation\n",
    "from alteruphono.phonology.sound_v2 import Sound\n",
    "\n",
    "# Create some sounds\n",
    "sounds = ['p', 'b', 't', 'd', 'k', 'g']\n",
    "print(\"Testing sound creation:\")\n",
    "\n",
    "for sound_char in sounds:\n",
    "    try:\n",
    "        sound = Sound(grapheme=sound_char, feature_system='tresoldi_distinctive')\n",
    "        voice_val = sound.get_feature_value('voice') if sound.has_feature('voice') else 'N/A'\n",
    "        print(f\"  {sound_char}: voice = {voice_val}\")\n",
    "    except Exception as e:\n",
    "        print(f\"  {sound_char}: error - {e}\")"
   ]
  },
  {
   "cell_type": "code",
   "execution_count": 4,
   "metadata": {
    "execution": {
     "iopub.execute_input": "2025-07-14T07:34:29.350151Z",
     "iopub.status.busy": "2025-07-14T07:34:29.348901Z",
     "iopub.status.idle": "2025-07-14T07:34:29.359078Z",
     "shell.execute_reply": "2025-07-14T07:34:29.357709Z"
    }
   },
   "outputs": [
    {
     "name": "stdout",
     "output_type": "stream",
     "text": [
      "Testing phonological distances:\n",
      "Distance p-b: 0.023\n",
      "Distance p-t: 0.035\n",
      "Distance b-t: 0.058\n"
     ]
    }
   ],
   "source": [
    "# Test distances\n",
    "print(\"Testing phonological distances:\")\n",
    "try:\n",
    "    p = Sound(grapheme='p', feature_system='tresoldi_distinctive')\n",
    "    b = Sound(grapheme='b', feature_system='tresoldi_distinctive')\n",
    "    t = Sound(grapheme='t', feature_system='tresoldi_distinctive')\n",
    "    \n",
    "    print(f\"Distance p-b: {p.distance_to(b):.3f}\")\n",
    "    print(f\"Distance p-t: {p.distance_to(t):.3f}\")\n",
    "    print(f\"Distance b-t: {b.distance_to(t):.3f}\")\n",
    "except Exception as e:\n",
    "    print(f\"Error calculating distances: {e}\")"
   ]
  },
  {
   "cell_type": "markdown",
   "metadata": {},
   "source": [
    "## Success!\n",
    "\n",
    "AlteruPhono is working correctly. This notebook demonstrates:\n",
    "- Basic imports and version checking\n",
    "- Feature system access\n",
    "- Sound object creation\n",
    "- Phonological distance calculation"
   ]
  }
 ],
 "metadata": {
  "kernelspec": {
   "display_name": "Python 3",
   "language": "python",
   "name": "python3"
  },
  "language_info": {
   "codemirror_mode": {
    "name": "ipython",
    "version": 3
   },
   "file_extension": ".py",
   "mimetype": "text/x-python",
   "name": "python",
   "nbconvert_exporter": "python",
   "pygments_lexer": "ipython3",
   "version": "3.10.12"
  }
 },
 "nbformat": 4,
 "nbformat_minor": 4
}
