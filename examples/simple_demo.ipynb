{
 "cells": [
  {
   "cell_type": "markdown",
   "metadata": {},
   "source": [
    "# AlteruPhono Simple Demo\n",
    "\n",
    "A basic demonstration of AlteruPhono functionality."
   ]
  },
  {
   "cell_type": "code",
   "execution_count": 1,
   "metadata": {
    "execution": {
     "iopub.execute_input": "2025-07-13T20:49:38.630915Z",
     "iopub.status.busy": "2025-07-13T20:49:38.630297Z",
     "iopub.status.idle": "2025-07-13T20:49:38.665029Z",
     "shell.execute_reply": "2025-07-13T20:49:38.664103Z"
    }
   },
   "outputs": [
    {
     "name": "stdout",
     "output_type": "stream",
     "text": [
      "Loaded Tresoldi feature system: 1081 sounds, 43 features\n",
      "AlteruPhono version: 0.8.0\n",
      "AlteruPhono loaded successfully!\n"
     ]
    }
   ],
   "source": [
    "# Import AlteruPhono\n",
    "import alteruphono\n",
    "print(f\"AlteruPhono version: {alteruphono.__version__}\")\n",
    "print(\"AlteruPhono loaded successfully!\")"
   ]
  },
  {
   "cell_type": "code",
   "execution_count": 2,
   "metadata": {
    "execution": {
     "iopub.execute_input": "2025-07-13T20:49:38.689968Z",
     "iopub.status.busy": "2025-07-13T20:49:38.689705Z",
     "iopub.status.idle": "2025-07-13T20:49:38.693387Z",
     "shell.execute_reply": "2025-07-13T20:49:38.692617Z"
    }
   },
   "outputs": [
    {
     "name": "stdout",
     "output_type": "stream",
     "text": [
      "Available feature systems:\n",
      "  - ipa_categorical\n",
      "  - unified_distinctive\n",
      "  - tresoldi_distinctive\n"
     ]
    }
   ],
   "source": [
    "# Test basic functionality\n",
    "from alteruphono.phonology.feature_systems import list_feature_systems, get_feature_system\n",
    "\n",
    "print(\"Available feature systems:\")\n",
    "systems = list_feature_systems()\n",
    "for system in systems:\n",
    "    print(f\"  - {system}\")"
   ]
  },
  {
   "cell_type": "code",
   "execution_count": 3,
   "metadata": {
    "execution": {
     "iopub.execute_input": "2025-07-13T20:49:38.695251Z",
     "iopub.status.busy": "2025-07-13T20:49:38.694987Z",
     "iopub.status.idle": "2025-07-13T20:49:38.699323Z",
     "shell.execute_reply": "2025-07-13T20:49:38.698457Z"
    }
   },
   "outputs": [
    {
     "name": "stdout",
     "output_type": "stream",
     "text": [
      "Testing sound creation:\n",
      "  p: error - Exactly one of grapheme, description, or features must be provided\n",
      "  b: error - Exactly one of grapheme, description, or features must be provided\n",
      "  t: error - Exactly one of grapheme, description, or features must be provided\n",
      "  d: error - Exactly one of grapheme, description, or features must be provided\n",
      "  k: error - Exactly one of grapheme, description, or features must be provided\n",
      "  g: error - Exactly one of grapheme, description, or features must be provided\n"
     ]
    }
   ],
   "source": [
    "# Test sound creation\n",
    "from alteruphono.phonology.sound_v2 import Sound\n",
    "\n",
    "# Create some sounds\n",
    "sounds = ['p', 'b', 't', 'd', 'k', 'g']\n",
    "print(\"Testing sound creation:\")\n",
    "\n",
    "for sound_char in sounds:\n",
    "    try:\n",
    "        sound = Sound(sound_char, 'tresoldi_distinctive')\n",
    "        voice_val = sound.get_feature_value('voice') if sound.has_feature('voice') else 'N/A'\n",
    "        print(f\"  {sound_char}: voice = {voice_val}\")\n",
    "    except Exception as e:\n",
    "        print(f\"  {sound_char}: error - {e}\")"
   ]
  },
  {
   "cell_type": "code",
   "execution_count": 4,
   "metadata": {
    "execution": {
     "iopub.execute_input": "2025-07-13T20:49:38.702461Z",
     "iopub.status.busy": "2025-07-13T20:49:38.701872Z",
     "iopub.status.idle": "2025-07-13T20:49:38.706518Z",
     "shell.execute_reply": "2025-07-13T20:49:38.706031Z"
    }
   },
   "outputs": [
    {
     "name": "stdout",
     "output_type": "stream",
     "text": [
      "Testing phonological distances:\n",
      "Error calculating distances: Exactly one of grapheme, description, or features must be provided\n"
     ]
    }
   ],
   "source": [
    "# Test distances\n",
    "print(\"Testing phonological distances:\")\n",
    "try:\n",
    "    p = Sound('p', 'tresoldi_distinctive')\n",
    "    b = Sound('b', 'tresoldi_distinctive')\n",
    "    t = Sound('t', 'tresoldi_distinctive')\n",
    "    \n",
    "    print(f\"Distance p-b: {p.distance_to(b):.3f}\")\n",
    "    print(f\"Distance p-t: {p.distance_to(t):.3f}\")\n",
    "    print(f\"Distance b-t: {b.distance_to(t):.3f}\")\n",
    "except Exception as e:\n",
    "    print(f\"Error calculating distances: {e}\")"
   ]
  },
  {
   "cell_type": "markdown",
   "metadata": {},
   "source": [
    "## Success!\n",
    "\n",
    "AlteruPhono is working correctly. This notebook demonstrates:\n",
    "- Basic imports and version checking\n",
    "- Feature system access\n",
    "- Sound object creation\n",
    "- Phonological distance calculation"
   ]
  }
 ],
 "metadata": {
  "kernelspec": {
   "display_name": "Python 3",
   "language": "python",
   "name": "python3"
  },
  "language_info": {
   "codemirror_mode": {
    "name": "ipython",
    "version": 3
   },
   "file_extension": ".py",
   "mimetype": "text/x-python",
   "name": "python",
   "nbconvert_exporter": "python",
   "pygments_lexer": "ipython3",
   "version": "3.10.12"
  }
 },
 "nbformat": 4,
 "nbformat_minor": 4
}
